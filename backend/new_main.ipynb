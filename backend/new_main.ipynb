{
 "cells": [
  {
   "cell_type": "code",
   "id": "initial_id",
   "metadata": {
    "collapsed": true,
    "ExecuteTime": {
     "end_time": "2025-04-25T23:14:14.413894Z",
     "start_time": "2025-04-25T23:14:14.194047Z"
    }
   },
   "source": [
    "import pandas as pd\n",
    "import pickle\n",
    "import numpy as np\n",
    "\n",
    "# Step 1: Load the saved model, scaler, and label encoder\n",
    "with open(\"rf_model.pkl\", \"rb\") as file:\n",
    "    model = pickle.load(file)\n",
    "\n",
    "with open(\"scaler.pkl\", \"rb\") as file:\n",
    "    scaler = pickle.load(file)\n",
    "\n",
    "with open(\"label_encoder.pkl\", \"rb\") as file:\n",
    "    le = pickle.load(file)\n",
    "\n",
    "# Step 2: Read the input data\n",
    "data = pd.read_csv('data.csv')\n",
    "\n",
    "# Rename the first column to 'sample_id' to match the training setup\n",
    "data.rename(columns={data.columns[0]: \"sample_id\"}, inplace=True)\n",
    "\n",
    "# Step 3: Select a single row (e.g., by index or sample_id)\n",
    "# Option 1: Specify by index (e.g., row 0)\n",
    "import random\n",
    "row_index = random.randint(0, 800)\n",
    "single_row = data.iloc[[row_index]]  # Use double brackets to keep DataFrame structure\n",
    "\n",
    "# Option 2: Specify by sample_id (uncomment to use)\n",
    "# sample_id = 'sample_0'\n",
    "# single_row = data[data['sample_id'] == sample_id]\n",
    "\n",
    "# Step 4: Preprocess the row\n",
    "# Drop 'sample_id' for prediction (as it was not used in training features)\n",
    "X_single = single_row.drop(['sample_id'], axis=1)\n",
    "\n",
    "# Scale the features using the loaded scaler\n",
    "X_single_scaled = scaler.transform(X_single)\n",
    "\n",
    "# Step 5: Make prediction for the single row\n",
    "y_pred_encoded = model.predict(X_single_scaled)\n",
    "\n",
    "# Step 6: Convert encoded prediction to class name\n",
    "y_pred = le.inverse_transform(y_pred_encoded)\n",
    "\n",
    "# Step 7: Output the prediction\n",
    "sample_id = single_row['sample_id'].values[0]\n",
    "print(f\"Prediction for sample_id '{sample_id}': {y_pred[0]}\")"
   ],
   "outputs": [
    {
     "name": "stdout",
     "output_type": "stream",
     "text": [
      "Error: row_index 10 is out of bounds for the CSV file with 1 rows.\n",
      "Prediction for sample_id 'sample_105': KIRC\n"
     ]
    }
   ],
   "execution_count": 13
  },
  {
   "metadata": {},
   "cell_type": "code",
   "outputs": [],
   "execution_count": null,
   "source": "",
   "id": "c2b2648b59641cc5"
  }
 ],
 "metadata": {
  "kernelspec": {
   "display_name": "Python 3",
   "language": "python",
   "name": "python3"
  },
  "language_info": {
   "codemirror_mode": {
    "name": "ipython",
    "version": 2
   },
   "file_extension": ".py",
   "mimetype": "text/x-python",
   "name": "python",
   "nbconvert_exporter": "python",
   "pygments_lexer": "ipython2",
   "version": "2.7.6"
  }
 },
 "nbformat": 4,
 "nbformat_minor": 5
}
